{
 "cells": [
  {
   "cell_type": "code",
   "execution_count": 0,
   "metadata": {
    "application/vnd.databricks.v1+cell": {
     "cellMetadata": {
      "byteLimit": 2048000,
      "rowLimit": 10000
     },
     "inputWidgets": {},
     "nuid": "b1f5e0bd-c152-4333-b9a9-56293938de08",
     "showTitle": false,
     "tableResultSettingsMap": {},
     "title": ""
    }
   },
   "outputs": [],
   "source": [
    "import statsmodels.api as sm\n",
    "import numpy as np\n",
    "import pandas as pd\n",
    "import geopandas as gpd\n",
    "import matplotlib.pyplot as plt\n",
    "from sklearn.metrics import mean_absolute_error, mean_squared_error"
   ]
  },
  {
   "cell_type": "code",
   "execution_count": 0,
   "metadata": {
    "application/vnd.databricks.v1+cell": {
     "cellMetadata": {
      "byteLimit": 2048000,
      "rowLimit": 10000
     },
     "inputWidgets": {},
     "nuid": "f18330f4-3adb-49e3-a7d2-42a1dc390085",
     "showTitle": false,
     "tableResultSettingsMap": {},
     "title": ""
    }
   },
   "outputs": [],
   "source": [
    "# Importamos los datos\n",
    "\n",
    "data = spark.table(\"poctesting.points_gold\").toPandas()"
   ]
  },
  {
   "cell_type": "code",
   "execution_count": 0,
   "metadata": {
    "application/vnd.databricks.v1+cell": {
     "cellMetadata": {
      "byteLimit": 2048000,
      "rowLimit": 10000
     },
     "inputWidgets": {},
     "nuid": "1adc96b4-1eb5-4fc2-817d-30ed24d84d51",
     "showTitle": false,
     "tableResultSettingsMap": {},
     "title": ""
    }
   },
   "outputs": [],
   "source": [
    "# Definimos la fución que calcula el pseudo-R2\n",
    "\n",
    "def pseudo_r2(y, y_pred):\n",
    "    return 1 - ((np.sum((y - y_pred)**2)) / np.sum((y - np.mean(y))**2))\n",
    "\n",
    "# print(\"Pseudo R²:\", pseudo_r2(y, y_pred)) # ejemplo de uso"
   ]
  },
  {
   "cell_type": "code",
   "execution_count": 0,
   "metadata": {
    "application/vnd.databricks.v1+cell": {
     "cellMetadata": {
      "byteLimit": 2048000,
      "rowLimit": 10000
     },
     "inputWidgets": {},
     "nuid": "b7151e5c-c1bd-44f9-87a2-a04e50af850f",
     "showTitle": false,
     "tableResultSettingsMap": {},
     "title": ""
    }
   },
   "outputs": [],
   "source": [
    "data"
   ]
  },
  {
   "cell_type": "markdown",
   "metadata": {
    "application/vnd.databricks.v1+cell": {
     "cellMetadata": {},
     "inputWidgets": {},
     "nuid": "6d9441a7-4aa5-4c55-8a30-95f326fef0c6",
     "showTitle": false,
     "tableResultSettingsMap": {},
     "title": ""
    }
   },
   "source": [
    "### 1. Dividir datos en entrenamiento y test"
   ]
  },
  {
   "cell_type": "code",
   "execution_count": 0,
   "metadata": {
    "application/vnd.databricks.v1+cell": {
     "cellMetadata": {
      "byteLimit": 2048000,
      "rowLimit": 10000
     },
     "inputWidgets": {},
     "nuid": "97a8fc21-6926-4cd7-af23-a49d06eb40a0",
     "showTitle": false,
     "tableResultSettingsMap": {},
     "title": ""
    }
   },
   "outputs": [],
   "source": [
    "from sklearn.model_selection import train_test_split\n",
    "\n",
    "# Variables independientes\n",
    "X = pd.get_dummies(data[['district', 'cluster', 'event_day', 'event_hour']], drop_first=True).astype(float)\n",
    "\n",
    "# Variable dependiente\n",
    "y = data['quantity_products'].values\n",
    "\n",
    "# División 70% entrenamiento, 30% test\n",
    "X_train, X_test, y_train, y_test = train_test_split(\n",
    "    X, y, test_size=0.3, random_state=42, stratify=y>0  # estratificar para mantener proporciones\n",
    ")\n"
   ]
  },
  {
   "cell_type": "markdown",
   "metadata": {
    "application/vnd.databricks.v1+cell": {
     "cellMetadata": {},
     "inputWidgets": {},
     "nuid": "61f7a94b-1d03-4df5-b443-d6aab6643019",
     "showTitle": false,
     "tableResultSettingsMap": {},
     "title": ""
    }
   },
   "source": [
    "### 2. Modelo Poisson clásico (Statsmodels)"
   ]
  },
  {
   "cell_type": "code",
   "execution_count": 0,
   "metadata": {
    "application/vnd.databricks.v1+cell": {
     "cellMetadata": {
      "byteLimit": 2048000,
      "rowLimit": 10000
     },
     "inputWidgets": {},
     "nuid": "f85b956b-8dc5-4802-af7d-1f41e47d3a6d",
     "showTitle": false,
     "tableResultSettingsMap": {},
     "title": ""
    }
   },
   "outputs": [],
   "source": [
    "import statsmodels.api as sm\n",
    "\n",
    "# Entrenamiento\n",
    "X_train_sm = sm.add_constant(X_train)\n",
    "poisson_model = sm.GLM(y_train, X_train_sm, family=sm.families.Poisson())\n",
    "poisson_results = poisson_model.fit()\n",
    "\n",
    "print(poisson_results.summary())\n",
    "\n",
    "# Predicciones\n",
    "X_test_sm = sm.add_constant(X_test, has_constant=\"add\")\n",
    "y_pred_test_sm = poisson_results.predict(X_test_sm)\n",
    "\n",
    "# Evaluación\n",
    "print(\"MAE Test (Statsmodels):\", mean_absolute_error(y_test, y_pred_test_sm))\n",
    "print(\"RMSE Test (Statsmodels):\", np.sqrt(mean_squared_error(y_test, y_pred_test_sm)))\n",
    "print(\"Pseudo R² Test (Statsmodels):\", pseudo_r2(y_test, y_pred_test_sm))\n"
   ]
  },
  {
   "cell_type": "code",
   "execution_count": 0,
   "metadata": {
    "application/vnd.databricks.v1+cell": {
     "cellMetadata": {
      "byteLimit": 2048000,
      "rowLimit": 10000
     },
     "inputWidgets": {},
     "nuid": "d7808dfb-66df-4831-b276-a34f7c4032ca",
     "showTitle": false,
     "tableResultSettingsMap": {},
     "title": ""
    }
   },
   "outputs": [],
   "source": [
    "X_test"
   ]
  },
  {
   "cell_type": "markdown",
   "metadata": {
    "application/vnd.databricks.v1+cell": {
     "cellMetadata": {},
     "inputWidgets": {},
     "nuid": "eccf1edf-aacc-4482-a91d-ba343484fbfe",
     "showTitle": false,
     "tableResultSettingsMap": {},
     "title": ""
    }
   },
   "source": [
    "### 3. Modelo Poisson Regularizado (sklearn)"
   ]
  },
  {
   "cell_type": "code",
   "execution_count": 0,
   "metadata": {
    "application/vnd.databricks.v1+cell": {
     "cellMetadata": {
      "byteLimit": 2048000,
      "rowLimit": 10000
     },
     "inputWidgets": {},
     "nuid": "5c3b8ffb-0806-4178-9dee-ad667c6c08d7",
     "showTitle": false,
     "tableResultSettingsMap": {},
     "title": ""
    }
   },
   "outputs": [],
   "source": [
    "from sklearn.linear_model import PoissonRegressor\n",
    "from sklearn.metrics import mean_absolute_error, mean_squared_error\n",
    "import numpy as np\n",
    "\n",
    "# Entrenamiento\n",
    "model_reg = PoissonRegressor(alpha=1.0, max_iter=1000)\n",
    "model_reg.fit(X_train, y_train)\n",
    "\n",
    "# Predicciones\n",
    "y_pred_train = model_reg.predict(X_train)\n",
    "y_pred_test = model_reg.predict(X_test)\n",
    "\n",
    "# Evaluación\n",
    "print(\"MAE Train:\", mean_absolute_error(y_train, y_pred_train))\n",
    "print(\"MAE Test:\", mean_absolute_error(y_test, y_pred_test))\n",
    "print(\"RMSE Test:\", np.sqrt(mean_squared_error(y_test, y_pred_test)))\n",
    "print(\"Pseudo R² Test (sklearn):\", pseudo_r2(y_test, y_pred_test))\n"
   ]
  },
  {
   "cell_type": "code",
   "execution_count": 0,
   "metadata": {
    "application/vnd.databricks.v1+cell": {
     "cellMetadata": {
      "byteLimit": 2048000,
      "rowLimit": 10000
     },
     "inputWidgets": {},
     "nuid": "2441bf5f-2867-45d7-b871-9009030de2f2",
     "showTitle": false,
     "tableResultSettingsMap": {},
     "title": ""
    }
   },
   "outputs": [],
   "source": [
    "import matplotlib.pyplot as plt\n",
    "\n",
    "plt.figure(figsize=(8,6))\n",
    "plt.scatter(y_test, y_pred_test, alpha=0.3, label=\"Regularizado (sklearn)\")\n",
    "plt.scatter(y_test, y_pred_test_sm, alpha=0.3, label=\"Statsmodels\", marker=\"x\")\n",
    "plt.plot([y_test.min(), y_test.max()], [y_test.min(), y_test.max()], 'r--')\n",
    "plt.xlabel(\"Ventas observadas\")\n",
    "plt.ylabel(\"Ventas predichas\")\n",
    "plt.title(\"Comparación: Poisson clásico vs Regularizado\")\n",
    "plt.legend()\n",
    "plt.show()\n"
   ]
  },
  {
   "cell_type": "code",
   "execution_count": 0,
   "metadata": {
    "application/vnd.databricks.v1+cell": {
     "cellMetadata": {},
     "inputWidgets": {},
     "nuid": "5c80b116-48ec-4c1c-8a31-173a5bdd14a4",
     "showTitle": false,
     "tableResultSettingsMap": {},
     "title": ""
    }
   },
   "outputs": [],
   "source": [
    "# Predicciones\n",
    "\n"
   ]
  }
 ],
 "metadata": {
  "application/vnd.databricks.v1+notebook": {
   "computePreferences": {
    "hardware": {
     "accelerator": null,
     "gpuPoolId": null,
     "memory": null
    }
   },
   "dashboards": [],
   "environmentMetadata": {
    "base_environment": "",
    "dependencies": [
     "geopandas",
     "pyarrow",
     "shapely",
     "numpy==1.24.4",
     "pandas==2.0.3"
    ],
    "environment_version": "2"
   },
   "inputWidgetPreferences": null,
   "language": "python",
   "notebookMetadata": {
    "pythonIndentUnit": 4
   },
   "notebookName": "Model_training",
   "widgets": {}
  },
  "language_info": {
   "name": "python"
  }
 },
 "nbformat": 4,
 "nbformat_minor": 0
}

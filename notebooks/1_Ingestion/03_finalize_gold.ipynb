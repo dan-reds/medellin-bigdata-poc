{
 "cells": [
  {
   "cell_type": "code",
   "execution_count": 0,
   "metadata": {
    "application/vnd.databricks.v1+cell": {
     "cellMetadata": {
      "byteLimit": 2048000,
      "rowLimit": 10000
     },
     "inputWidgets": {},
     "nuid": "3ed796a3-f643-47cd-a606-16659d89d89c",
     "showTitle": false,
     "tableResultSettingsMap": {},
     "title": ""
    }
   },
   "outputs": [],
   "source": [
    "from pyspark.sql import functions as F\n",
    "from pyspark.sql.window import Window\n",
    "\n",
    "# Ventanas para gold\n",
    "# Partimos de Silver\n",
    "df_silver = spark.table(\"poctesting.silver_events\")\n",
    "\n",
    "# Ventanas\n",
    "window_neigh = Window.partitionBy(\"neighborhood\")\n",
    "window_neigh_month = Window.partitionBy(\"neighborhood\", \"event_year\", \"event_month\")\n",
    "window_rank = Window.partitionBy(\"event_month\").orderBy(F.sum(\"quantity_products\").over(window_neigh_month).desc())\n",
    "window_day = Window.partitionBy(\"neighborhood\", \"event_year\", \"event_month\", \"event_day\")\n",
    "\n",
    "# Construcción de métricas\n",
    "df_gold = df_silver \\\n",
    "    .withColumn(\"total_by_neighborhood\", F.sum(\"quantity_products\").over(window_neigh)) \\\n",
    "    .withColumn(\"avg_by_neighborhood\", F.avg(\"quantity_products\").over(window_neigh)) \\\n",
    "    .withColumn(\"count_orders_by_neigh\", F.count(\"order_id\").over(window_neigh)) \\\n",
    "    .withColumn(\"unique_customers_by_neigh\", F.approx_count_distinct(\"customer_id\").over(window_neigh)) \\\n",
    "    .withColumn(\"monthly_total\", F.sum(\"quantity_products\").over(window_neigh_month)) \\\n",
    "    .withColumn(\"monthly_avg\", F.avg(\"quantity_products\").over(window_neigh_month)) \\\n",
    "    .withColumn(\"rank_in_month\", F.dense_rank().over(window_rank)) \\\n",
    "    .withColumn(\"orders_per_day\", F.count(\"order_id\").over(window_day))\n",
    "\n",
    "# Persistir en tabla Gold\n",
    "df_gold.write.mode(\"overwrite\").saveAsTable(\"poctesting.gold_events\")\n",
    "\n",
    "print(f\"✅ Tabla 'poctesting.gold_events' creada con {df_gold.count()} registros enriquecidos.\")"
   ]
  },
  {
   "cell_type": "code",
   "execution_count": 0,
   "metadata": {
    "application/vnd.databricks.v1+cell": {
     "cellMetadata": {
      "byteLimit": 2048000,
      "rowLimit": 10000
     },
     "inputWidgets": {},
     "nuid": "845a39e0-5345-4f39-9aa8-6b217f4a4b73",
     "showTitle": false,
     "tableResultSettingsMap": {},
     "title": ""
    }
   },
   "outputs": [],
   "source": [
    "# display(df_gold.limit(10))"
   ]
  },
  {
   "cell_type": "code",
   "execution_count": 0,
   "metadata": {
    "application/vnd.databricks.v1+cell": {
     "cellMetadata": {},
     "inputWidgets": {},
     "nuid": "30ee5c5c-e1a8-4216-9574-40bd3df32916",
     "showTitle": false,
     "tableResultSettingsMap": {},
     "title": ""
    }
   },
   "outputs": [],
   "source": [
    "# # Ventanas por barrio y empleado\n",
    "# window_neigh = Window.partitionBy(\"neighborhood\")\n",
    "# window_emp_total = Window.partitionBy(\"employee_id\")\n",
    "# window_rank_global = Window.orderBy(F.sum(\"quantity_products\").over(window_emp_total).desc())\n",
    "\n",
    "# # Aplicar funciones de ventana\n",
    "# df_gold = df_silver \\\n",
    "#     .withColumn(\"total_by_neighborhood\", F.sum(\"quantity_products\").over(window_neigh)) \\\n",
    "#     .withColumn(\"total_by_employee\", F.sum(\"quantity_products\").over(window_emp_total)) \\\n",
    "#     .withColumn(\"rank_employee_quantity\", F.dense_rank().over(window_rank_global)) #\\\n",
    "#     #.withColumn(\"cume_dist_employee\", F.cume_dist().over(window_rank_global))"
   ]
  }
 ],
 "metadata": {
  "application/vnd.databricks.v1+notebook": {
   "computePreferences": null,
   "dashboards": [],
   "environmentMetadata": {
    "base_environment": "",
    "environment_version": "2"
   },
   "inputWidgetPreferences": null,
   "language": "python",
   "notebookMetadata": {
    "pythonIndentUnit": 4
   },
   "notebookName": "03_finalize_gold",
   "widgets": {}
  },
  "language_info": {
   "name": "python"
  }
 },
 "nbformat": 4,
 "nbformat_minor": 0
}

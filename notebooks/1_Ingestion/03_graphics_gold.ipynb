{
 "cells": [
  {
   "cell_type": "code",
   "execution_count": 0,
   "metadata": {
    "application/vnd.databricks.v1+cell": {
     "cellMetadata": {
      "byteLimit": 2048000,
      "rowLimit": 10000
     },
     "inputWidgets": {},
     "nuid": "f968e4ab-b85f-471d-9185-50d680e013e2",
     "showTitle": false,
     "tableResultSettingsMap": {},
     "title": ""
    }
   },
   "outputs": [],
   "source": [
    "spark"
   ]
  },
  {
   "cell_type": "code",
   "execution_count": 0,
   "metadata": {
    "application/vnd.databricks.v1+cell": {
     "cellMetadata": {
      "byteLimit": 2048000,
      "rowLimit": 10000
     },
     "inputWidgets": {},
     "nuid": "347f3b18-d71c-4500-95d9-c1ec8426bf8d",
     "showTitle": false,
     "tableResultSettingsMap": {},
     "title": ""
    }
   },
   "outputs": [],
   "source": [
    "dbutils.library.restartPython()\n",
    "# %pip install libpysal\n",
    "%pip install splot\n",
    "%pip install esda"
   ]
  },
  {
   "cell_type": "markdown",
   "metadata": {
    "application/vnd.databricks.v1+cell": {
     "cellMetadata": {},
     "inputWidgets": {},
     "nuid": "55df8541-2efb-42e3-8fd0-118be57e1cfb",
     "showTitle": false,
     "tableResultSettingsMap": {},
     "title": ""
    }
   },
   "source": [
    "## Gráficos\n",
    "Realizamos los siguientes graficos como aporte a la solución planteada en la POC de UnalWater\n",
    "1. Grafico de dispersión de los puntos\n",
    "2. Mapa de cloropletas por barrio\n",
    "3. Mapa de densidad de Kernel\n",
    "4. Histograma de cantidad de productos vendidos\n",
    "5. Boxplot de cantidad de productos vendidos por barrios\n",
    "5. Histograma de productos vendidos por horas"
   ]
  },
  {
   "cell_type": "code",
   "execution_count": 0,
   "metadata": {
    "application/vnd.databricks.v1+cell": {
     "cellMetadata": {
      "byteLimit": 2048000,
      "rowLimit": 10000
     },
     "inputWidgets": {},
     "nuid": "95e7596f-88a8-467a-a4a4-b9a315f157ec",
     "showTitle": false,
     "tableResultSettingsMap": {},
     "title": ""
    }
   },
   "outputs": [],
   "source": [
    "# Importamos las librerías necesarias\n",
    "from shapely.validation import make_valid\n",
    "import geopandas as gpd\n",
    "from shapely.geometry import Point\n",
    "import pandas as pd\n",
    "import numpy as np\n",
    "import matplotlib.pyplot as plt\n",
    "import seaborn as sbn\n",
    "from libpysal import weights\n",
    "import esda\n",
    "from splot.esda import lisa_cluster"
   ]
  },
  {
   "cell_type": "code",
   "execution_count": 0,
   "metadata": {
    "application/vnd.databricks.v1+cell": {
     "cellMetadata": {
      "byteLimit": 2048000,
      "rowLimit": 10000
     },
     "inputWidgets": {},
     "nuid": "c6c382cc-8b76-48a6-bb3f-4efb554af44c",
     "showTitle": false,
     "tableResultSettingsMap": {},
     "title": ""
    }
   },
   "outputs": [],
   "source": [
    "# Paso 0: Importamos y editamos los nombres de los barrios\n",
    "\n",
    "path_parquet_neigh = \"/Workspace/Users/danielale22rojas@gmail.com//medellin-bigdata-poc/data/raw/medellin_neighborhoods.parquet\"\n",
    "gdf_barrios = gpd.read_parquet(path_parquet_neigh) \n",
    "\n",
    "gdf_barrios[\"geometry\"] = gdf_barrios[\"geometry\"].apply(make_valid)\n",
    "\n",
    "# Primero corregimos el nombre\n",
    "gdf_barrios.loc[gdf_barrios[\"NOMBRE\"].isna(), \"NOMBRE\"] = \"ARANJUEZ\"\n",
    "\n",
    "# Luego disolvemos por el nombre\n",
    "gdf_barrios = gdf_barrios.dissolve(by=\"NOMBRE\", as_index=False)\n",
    "\n",
    "gdf_barrios[\"NOMBRE\"] = gdf_barrios[\"NOMBRE\"].str.replace(\"CORREGIMIENTO DE \", \"\", regex=True)\n",
    "gdf_barrios[\"NOMBRE\"]"
   ]
  },
  {
   "cell_type": "code",
   "execution_count": 0,
   "metadata": {
    "application/vnd.databricks.v1+cell": {
     "cellMetadata": {
      "byteLimit": 2048000,
      "rowLimit": 10000
     },
     "inputWidgets": {},
     "nuid": "cd38e293-020e-4b89-847c-bd3d55ff7f75",
     "showTitle": false,
     "tableResultSettingsMap": {},
     "title": ""
    }
   },
   "outputs": [],
   "source": [
    "# Paso 1: Creamos una función para importar la capa oro como un geodataframe\n",
    "\n",
    "def cargar_silver_como_gdf(nombre_tabla=\"poctesting.gold_events\", crs=\"EPSG:4326\"):\n",
    "    \"\"\"\n",
    "    Carga la tabla Silver desde Spark y la convierte en un GeoDataFrame.\n",
    "    \"\"\"\n",
    "    # Leer la tabla desde Spark\n",
    "    df_gold = spark.table(nombre_tabla)\n",
    "    \n",
    "    # Pasar a Pandas\n",
    "    pdf = df_gold.toPandas()\n",
    "\n",
    "    # Crear el \"geometry\" a partir de lon y lat\n",
    "    pdf[\"geometry\"] = pdf.apply(lambda row: Point(row[\"longitude\"], row[\"latitude\"]), axis=1)\n",
    "    \n",
    "    # Construir GeoDataFrame\n",
    "    gdf = gpd.GeoDataFrame(pdf, geometry=\"geometry\", crs=crs)\n",
    "    \n",
    "    return gdf"
   ]
  },
  {
   "cell_type": "code",
   "execution_count": 0,
   "metadata": {
    "application/vnd.databricks.v1+cell": {
     "cellMetadata": {
      "byteLimit": 2048000,
      "rowLimit": 10000
     },
     "inputWidgets": {},
     "nuid": "0880d9a5-9ea3-4592-b9a9-0d8f3ec0c92f",
     "showTitle": false,
     "tableResultSettingsMap": {},
     "title": ""
    }
   },
   "outputs": [],
   "source": [
    "# Importando los datos desde oro\n",
    "# bd es la base de datos gold importada como un GeodataFrame de pandas\n",
    "bd = cargar_silver_como_gdf(\"poctesting.gold_events\", \"EPSG:4326\")"
   ]
  },
  {
   "cell_type": "code",
   "execution_count": 0,
   "metadata": {
    "application/vnd.databricks.v1+cell": {
     "cellMetadata": {
      "byteLimit": 2048000,
      "rowLimit": 10000
     },
     "inputWidgets": {},
     "nuid": "ac2fb374-9216-4e6b-a4f9-89c2412f29c4",
     "showTitle": false,
     "tableResultSettingsMap": {},
     "title": ""
    }
   },
   "outputs": [],
   "source": [
    "# Particionar las bases de datos, por barrios y por empleados\n"
   ]
  },
  {
   "cell_type": "markdown",
   "metadata": {
    "application/vnd.databricks.v1+cell": {
     "cellMetadata": {},
     "inputWidgets": {},
     "nuid": "c760fc36-594a-4dca-9a63-b9549f3fe185",
     "showTitle": false,
     "tableResultSettingsMap": {},
     "title": ""
    }
   },
   "source": [
    "### 1. Gráfico de dispersión de los puntos"
   ]
  },
  {
   "cell_type": "code",
   "execution_count": 0,
   "metadata": {
    "application/vnd.databricks.v1+cell": {
     "cellMetadata": {
      "byteLimit": 2048000,
      "rowLimit": 10000
     },
     "inputWidgets": {},
     "nuid": "24bb4388-7da8-409d-99fd-2344b16711a9",
     "showTitle": false,
     "tableResultSettingsMap": {},
     "title": ""
    }
   },
   "outputs": [],
   "source": [
    "# Crear el jointplot\n",
    "plot = sbn.jointplot(\n",
    "    x='longitude', \n",
    "    y='latitude', \n",
    "    data=bd, \n",
    "    s=5, \n",
    "    height=8\n",
    ")\n",
    "\n",
    "# Obtener el eje principal del jointplot\n",
    "ax = plot.ax_joint\n",
    "\n",
    "# Dibujar los límites de barrios encima\n",
    "gdf_barrios.boundary.plot(ax=ax, color=\"black\", linewidth=0.5)\n",
    "\n",
    "# Personalizar títulos y etiquetas\n",
    "plot.fig.suptitle(\"Distribución de puntos de venta con límites de barrios\", y=1.02, fontsize=16)\n",
    "plot.set_axis_labels(\"Longitud\", \"Latitud\")\n",
    "\n",
    "plt.show()"
   ]
  },
  {
   "cell_type": "markdown",
   "metadata": {
    "application/vnd.databricks.v1+cell": {
     "cellMetadata": {},
     "inputWidgets": {},
     "nuid": "4ca508f6-9bb4-496e-8d35-40a6aed0a74a",
     "showTitle": false,
     "tableResultSettingsMap": {},
     "title": ""
    }
   },
   "source": [
    "### 2. Mapa de cloropletas por barrio"
   ]
  },
  {
   "cell_type": "code",
   "execution_count": 0,
   "metadata": {
    "application/vnd.databricks.v1+cell": {
     "cellMetadata": {
      "byteLimit": 2048000,
      "rowLimit": 10000
     },
     "inputWidgets": {},
     "nuid": "c1f97673-4bd2-49ad-987d-408bf985ccaf",
     "showTitle": false,
     "tableResultSettingsMap": {},
     "title": ""
    }
   },
   "outputs": [],
   "source": [
    "# crear dataframe unido\n",
    "df_gold = spark.table(\"poctesting.gold_events\")\n",
    "pdf_gold = df_gold.select(\"district\", \"avg_by_neighborhood\", \"total_by_neighborhood\").distinct().toPandas()\n",
    "\n",
    "# Unir los dos dataframes\n",
    "gdf_merged = gdf_barrios.merge(pdf_gold, left_on=\"NOMBRE\", right_on=\"district\", how=\"left\")"
   ]
  },
  {
   "cell_type": "code",
   "execution_count": 0,
   "metadata": {
    "application/vnd.databricks.v1+cell": {
     "cellMetadata": {
      "byteLimit": 2048000,
      "rowLimit": 10000
     },
     "inputWidgets": {},
     "nuid": "86b56f84-d97d-415c-9d27-b33549153f44",
     "showTitle": false,
     "tableResultSettingsMap": {},
     "title": ""
    }
   },
   "outputs": [],
   "source": [
    "# Importar datos gold\n",
    "\n",
    "# Grafico coroplético\n",
    "f, ax = plt.subplots(1, figsize=(12,7))\n",
    "gdf_merged.plot(\n",
    "    ax=ax,\n",
    "    column=\"avg_by_neighborhood\",  # usamos el total ya calculado\n",
    "    legend=True,\n",
    "    scheme=\"Quantiles\",\n",
    "    legend_kwds={\"fmt\": \"{:.0f}\"},\n",
    "    cmap=\"Blues\",\n",
    "    edgecolor=\"black\",\n",
    "    linewidth=0.5\n",
    ")\n",
    "\n",
    "# Dibujar límites de barrios\n",
    "gdf_barrios.boundary.plot(ax=ax, color=\"black\", linewidth=0.5, alpha=0.5)\n",
    "\n",
    "# Añadir nombres de barrios\n",
    "for idx, row in gdf_barrios.iterrows():\n",
    "    centroid = row.geometry.centroid\n",
    "    ax.text(\n",
    "        centroid.x, centroid.y, \n",
    "        str(row[\"NOMBRE\"]), \n",
    "        fontsize=6, color=\"black\", ha=\"center\"\n",
    "    )\n",
    "\n",
    "ax.set_axis_off()\n",
    "ax.set_title(\"Total de productos vendidos por barrio\", fontsize=14)\n",
    "plt.axis(\"equal\")\n",
    "plt.show()"
   ]
  },
  {
   "cell_type": "markdown",
   "metadata": {
    "application/vnd.databricks.v1+cell": {
     "cellMetadata": {},
     "inputWidgets": {},
     "nuid": "ac02a91c-9e98-46a1-9605-fea8aa4a40eb",
     "showTitle": false,
     "tableResultSettingsMap": {},
     "title": ""
    }
   },
   "source": [
    "### 3. Mapa de densidad de Kernel"
   ]
  },
  {
   "cell_type": "code",
   "execution_count": 0,
   "metadata": {
    "application/vnd.databricks.v1+cell": {
     "cellMetadata": {
      "byteLimit": 2048000,
      "rowLimit": 10000
     },
     "inputWidgets": {},
     "nuid": "63cfdd7b-24cc-4cab-9208-837dc253b231",
     "showTitle": false,
     "tableResultSettingsMap": {},
     "title": ""
    }
   },
   "outputs": [],
   "source": [
    "from matplotlib.cm import ScalarMappable\n",
    "\n",
    "# Crear figura\n",
    "f, ax = plt.subplots(figsize=(10, 12))\n",
    "\n",
    "# KDE con seaborn\n",
    "sns_plot = sbn.kdeplot(\n",
    "    x=bd[\"longitude\"], \n",
    "    y=bd[\"latitude\"], \n",
    "    fill=True, \n",
    "    cmap=\"viridis_r\", \n",
    "    levels=40, \n",
    "    alpha=0.7, \n",
    "    ax=ax\n",
    ")\n",
    "\n",
    "# Dibujar límites de barrios\n",
    "gdf_barrios.boundary.plot(ax=ax, color=\"black\", linewidth=0.5, alpha=0.5)\n",
    "\n",
    "# Añadir nombres de barrios\n",
    "for idx, row in gdf_barrios.iterrows():\n",
    "    centroid = row.geometry.centroid\n",
    "    ax.text(\n",
    "        centroid.x, centroid.y, \n",
    "        str(row[\"NOMBRE\"]), \n",
    "        fontsize=7, color=\"black\", ha=\"center\"\n",
    "    )\n",
    "\n",
    "# Ajustar límites al bounding box de Medellín\n",
    "bounds = gdf_barrios.total_bounds\n",
    "ax.set_xlim(bounds[0], bounds[2])\n",
    "ax.set_ylim(bounds[1], bounds[3])\n",
    "\n",
    "# Crear colorbar manual (gradiente)\n",
    "sm = ScalarMappable(cmap=\"viridis_r\")\n",
    "sm.set_array([])  # necesario para inicializar\n",
    "cbar = f.colorbar(sm, ax=ax, orientation=\"vertical\", fraction=0.03, pad=0.04)\n",
    "cbar.set_label(\"Densidad estimada de eventos\", fontsize=12)\n",
    "\n",
    "# Estilo final\n",
    "ax.set_title(\"Mapa de densidad de eventos de ventas en Medellín\", fontsize=16, pad=20)\n",
    "ax.set_axis_off()\n",
    "plt.tight_layout()\n",
    "plt.show()"
   ]
  },
  {
   "cell_type": "code",
   "execution_count": 0,
   "metadata": {
    "application/vnd.databricks.v1+cell": {
     "cellMetadata": {
      "byteLimit": 2048000,
      "rowLimit": 10000
     },
     "inputWidgets": {},
     "nuid": "b313cc70-cb36-466e-801d-e5580752db3b",
     "showTitle": false,
     "tableResultSettingsMap": {},
     "title": ""
    }
   },
   "outputs": [],
   "source": [
    "from pointpats import QStatistic\n",
    "\n",
    "# Mapa de distribución de puntos en cuadrantes\n",
    "coordinates = bd[[\"longitude\", \"latitude\"]].values\n",
    "qstat = QStatistic(coordinates, nx = 2, ny = 2)\n",
    "qstat.plot()"
   ]
  },
  {
   "cell_type": "markdown",
   "metadata": {
    "application/vnd.databricks.v1+cell": {
     "cellMetadata": {},
     "inputWidgets": {},
     "nuid": "c41c33be-a3a6-4e3f-ae7d-da5e97566cae",
     "showTitle": false,
     "tableResultSettingsMap": {},
     "title": ""
    }
   },
   "source": [
    "### 4. Histograma de cantidad de productos vendidos"
   ]
  },
  {
   "cell_type": "code",
   "execution_count": 0,
   "metadata": {
    "application/vnd.databricks.v1+cell": {
     "cellMetadata": {
      "byteLimit": 2048000,
      "rowLimit": 10000
     },
     "inputWidgets": {},
     "nuid": "6374bd48-2c7d-467e-8795-140c5a44158d",
     "showTitle": false,
     "tableResultSettingsMap": {},
     "title": ""
    }
   },
   "outputs": [],
   "source": [
    "# Histograma\n",
    "plt.figure(figsize=(10,6))\n",
    "plt.hist(bd[\"quantity_products\"], bins=30, color=\"skyblue\", edgecolor=\"black\")\n",
    "plt.title(\"Histograma de productos vendidos - Poisson No homogenea\", fontsize=16)\n",
    "plt.xlabel(\"Cantidad de productos\")\n",
    "plt.ylabel(\"Frecuencia\")\n",
    "plt.grid(alpha=0.3)\n",
    "plt.show()"
   ]
  },
  {
   "cell_type": "code",
   "execution_count": 0,
   "metadata": {
    "application/vnd.databricks.v1+cell": {
     "cellMetadata": {
      "byteLimit": 2048000,
      "rowLimit": 10000
     },
     "inputWidgets": {},
     "nuid": "c4b99bc6-b9aa-4f23-87ef-3f7dc36a2ecd",
     "showTitle": false,
     "tableResultSettingsMap": {},
     "title": ""
    }
   },
   "outputs": [],
   "source": [
    "# Boxplot\n",
    "# Calcular medianas de productos vendidos por barrio\n",
    "orden = bd.groupby(\"district\")[\"quantity_products\"].median().sort_values().index\n",
    "\n",
    "# Crear el boxplot con orden\n",
    "plt.figure(figsize=(14,7))\n",
    "sbn.boxplot(data=bd, x=\"district\", y=\"quantity_products\", order=orden)\n",
    "plt.title(\"Boxplot de productos vendidos por barrio (ordenado por mediana)\", fontsize=16)\n",
    "plt.xlabel(\"Barrio\")\n",
    "plt.ylabel(\"Cantidad de productos\")\n",
    "plt.xticks(rotation=90)\n",
    "plt.show()"
   ]
  },
  {
   "cell_type": "markdown",
   "metadata": {
    "application/vnd.databricks.v1+cell": {
     "cellMetadata": {},
     "inputWidgets": {},
     "nuid": "5e376e08-873b-4c25-851c-ada68d0a796e",
     "showTitle": false,
     "tableResultSettingsMap": {},
     "title": ""
    }
   },
   "source": [
    "### 5. Dependencia Espacial y Clustering"
   ]
  },
  {
   "cell_type": "code",
   "execution_count": 0,
   "metadata": {
    "application/vnd.databricks.v1+cell": {
     "cellMetadata": {
      "byteLimit": 2048000,
      "rowLimit": 10000
     },
     "inputWidgets": {},
     "nuid": "b466d633-204c-4bdf-b858-8af2014dc377",
     "showTitle": false,
     "tableResultSettingsMap": {},
     "title": ""
    }
   },
   "outputs": [],
   "source": [
    "# Creamos la matriz de pesos espacial tipo queen\n",
    "w_queen = weights.Queen.from_dataframe(gdf_merged)"
   ]
  },
  {
   "cell_type": "code",
   "execution_count": 0,
   "metadata": {
    "application/vnd.databricks.v1+cell": {
     "cellMetadata": {
      "byteLimit": 2048000,
      "rowLimit": 10000
     },
     "inputWidgets": {},
     "nuid": "f2c76242-2391-4341-8dcc-6a0f669d77ea",
     "showTitle": false,
     "tableResultSettingsMap": {},
     "title": ""
    }
   },
   "outputs": [],
   "source": [
    "# Grafico de moran con matriz de pesos queen\n",
    "\n",
    "from splot.esda import plot_moran\n",
    "\n",
    "plot_moran(esda.Moran(gdf_merged['total_by_neighborhood'], w_queen));"
   ]
  },
  {
   "cell_type": "code",
   "execution_count": 0,
   "metadata": {
    "application/vnd.databricks.v1+cell": {
     "cellMetadata": {
      "byteLimit": 2048000,
      "rowLimit": 10000
     },
     "inputWidgets": {},
     "nuid": "fd4a054a-da12-4703-a405-a59303872a70",
     "showTitle": false,
     "tableResultSettingsMap": {},
     "title": ""
    }
   },
   "outputs": [],
   "source": [
    "from splot.esda import lisa_cluster\n",
    "\n",
    "# Ahora hacemos el grafico de lisa\n",
    "lisa = esda.Moran_Local(gdf_merged['total_by_neighborhood'], w_queen)\n",
    "lisa_cluster(lisa, gdf_merged);"
   ]
  },
  {
   "cell_type": "code",
   "execution_count": 0,
   "metadata": {
    "application/vnd.databricks.v1+cell": {
     "cellMetadata": {
      "byteLimit": 2048000,
      "rowLimit": 10000
     },
     "inputWidgets": {},
     "nuid": "771870d7-8496-419a-8a07-94a6fc77e63d",
     "showTitle": false,
     "tableResultSettingsMap": {},
     "title": ""
    }
   },
   "outputs": [],
   "source": [
    "from splot.esda import plot_local_autocorrelation\n",
    "plot_local_autocorrelation(lisa, gdf_merged, 'total_by_neighborhood');"
   ]
  },
  {
   "cell_type": "markdown",
   "metadata": {
    "application/vnd.databricks.v1+cell": {
     "cellMetadata": {},
     "inputWidgets": {},
     "nuid": "b8487203-8b60-47d6-a615-629bf83ac729",
     "showTitle": false,
     "tableResultSettingsMap": {},
     "title": ""
    }
   },
   "source": [
    "### Culstering"
   ]
  },
  {
   "cell_type": "code",
   "execution_count": 0,
   "metadata": {
    "application/vnd.databricks.v1+cell": {
     "cellMetadata": {
      "byteLimit": 2048000,
      "rowLimit": 10000
     },
     "inputWidgets": {},
     "nuid": "1ddedc14-032a-483e-b9d5-8e75da3ae696",
     "showTitle": false,
     "tableResultSettingsMap": {},
     "title": ""
    }
   },
   "outputs": [],
   "source": [
    "# CLUSTERING CON DBSCAN\n",
    "from sklearn.cluster import DBSCAN\n",
    "import numpy as np\n",
    "\n",
    "# Extraer coordenadas\n",
    "coords = np.array(list(zip(bd.geometry.x, bd.geometry.y)))\n",
    "\n",
    "# DBSCAN con distancia en coordenadas\n",
    "db = DBSCAN(eps=0.01, min_samples=5).fit(coords)  \n",
    "bd[\"cluster\"] = db.labels_\n",
    "\n",
    "# Revisar resultados\n",
    "print(bd[\"cluster\"].value_counts())\n",
    "\n",
    "# Graficar\n",
    "import matplotlib.pyplot as plt\n",
    "fig, ax = plt.subplots(figsize=(10,8))\n",
    "bd.plot(ax=ax, column=\"cluster\", categorical=True, legend=True, markersize=10, cmap=\"tab20\")\n",
    "ax.set_title(\"Clustering de eventos (DBSCAN)\", fontsize=14)\n",
    "plt.show()"
   ]
  },
  {
   "cell_type": "code",
   "execution_count": 0,
   "metadata": {
    "application/vnd.databricks.v1+cell": {
     "cellMetadata": {
      "byteLimit": 2048000,
      "rowLimit": 10000
     },
     "inputWidgets": {},
     "nuid": "87a76931-2691-4561-870f-0edec1887aec",
     "showTitle": false,
     "tableResultSettingsMap": {},
     "title": ""
    }
   },
   "outputs": [],
   "source": [
    "# CLUSTERING CON K-MEANS\n",
    "from sklearn.cluster import KMeans\n",
    "\n",
    "coords = np.array(list(zip(bd.geometry.x, bd.geometry.y)))\n",
    "kmeans = KMeans(n_clusters=5, random_state=42).fit(coords)\n",
    "bd[\"cluster\"] = kmeans.labels_\n",
    "\n",
    "# Graficar\n",
    "fig, ax = plt.subplots(figsize=(10,8))\n",
    "bd.plot(ax=ax, column=\"cluster\", categorical=True, legend=True, markersize=10, cmap=\"tab20\")\n",
    "ax.set_title(\"Clustering de eventos (K-Means)\", fontsize=14)\n",
    "plt.show()"
   ]
  },
  {
   "cell_type": "code",
   "execution_count": 0,
   "metadata": {
    "application/vnd.databricks.v1+cell": {
     "cellMetadata": {
      "byteLimit": 2048000,
      "rowLimit": 10000
     },
     "inputWidgets": {},
     "nuid": "8a2fc6c9-7ea9-4bdc-8f45-1a3d4733cd6e",
     "showTitle": false,
     "tableResultSettingsMap": {},
     "title": ""
    }
   },
   "outputs": [],
   "source": [
    "# CLUSTERING CON DBSCAN CON BARRIOS\n",
    "from sklearn.cluster import DBSCAN\n",
    "import numpy as np\n",
    "\n",
    "# Extraer coordenadas\n",
    "coords = np.array(list(zip(gdf_merged.geometry.x, gdf_merged.geometry.y)))\n",
    "\n",
    "# DBSCAN con distancia en coordenadas\n",
    "db = DBSCAN(eps=0.01, min_samples=5).fit(coords)  \n",
    "gdf_merged[\"cluster\"] = db.labels_\n",
    "\n",
    "# Revisar resultados\n",
    "print(gdf_merged[\"cluster\"].value_counts())\n",
    "\n",
    "# Graficar\n",
    "import matplotlib.pyplot as plt\n",
    "fig, ax = plt.subplots(figsize=(10,8))\n",
    "gdf_merged.plot(ax=ax, column=\"cluster\", categorical=True, legend=True, markersize=10, cmap=\"tab20\")\n",
    "ax.set_title(\"Clustering de eventos (DBSCAN)\", fontsize=14)\n",
    "plt.show()"
   ]
  }
 ],
 "metadata": {
  "application/vnd.databricks.v1+notebook": {
   "computePreferences": {
    "hardware": {
     "accelerator": null,
     "gpuPoolId": null,
     "memory": null
    }
   },
   "dashboards": [],
   "environmentMetadata": {
    "base_environment": "",
    "dependencies": [
     "geopandas",
     "pyarrow",
     "numpy==1.24.4",
     "pandas==2.0.3",
     "scipy==1.11.1",
     "folium",
     "shapely",
     "pointpats",
     "mapclassify"
    ],
    "environment_version": "2"
   },
   "inputWidgetPreferences": null,
   "language": "python",
   "notebookMetadata": {
    "pythonIndentUnit": 4
   },
   "notebookName": "03_graphics_gold",
   "widgets": {}
  },
  "language_info": {
   "name": "python"
  }
 },
 "nbformat": 4,
 "nbformat_minor": 0
}

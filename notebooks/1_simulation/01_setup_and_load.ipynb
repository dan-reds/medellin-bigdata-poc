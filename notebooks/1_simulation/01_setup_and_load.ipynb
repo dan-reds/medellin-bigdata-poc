{
 "cells": [
  {
   "cell_type": "code",
   "execution_count": 0,
   "metadata": {
    "application/vnd.databricks.v1+cell": {
     "cellMetadata": {
      "byteLimit": 2048000,
      "rowLimit": 10000
     },
     "inputWidgets": {},
     "nuid": "a43319ef-6685-48e1-ba85-70a9f66457e6",
     "showTitle": false,
     "tableResultSettingsMap": {},
     "title": ""
    }
   },
   "outputs": [],
   "source": [
    "# PASO 1: Imports & Config\n",
    "import json, random, uuid, time\n",
    "from pathlib import Path\n",
    "from datetime import datetime\n",
    "import geopandas as gpd\n",
    "import pandas as pd\n",
    "from shapely.geometry import Point\n",
    "\n",
    "cfg      = json.loads(Path(\"/Workspace/Users/santiagobustosp@gmail.com/medellin-bigdata-poc/notebooks/1_simulation/sim_config.json\").read_text())\n",
    "base     = Path(cfg[\"base_path\"])\n",
    "paths    = cfg[\"paths\"]\n",
    "interval = cfg[\"interval_seconds\"]\n",
    "qty_min, qty_max = cfg[\"quantity_range\"]"
   ]
  },
  {
   "cell_type": "code",
   "execution_count": 0,
   "metadata": {
    "application/vnd.databricks.v1+cell": {
     "cellMetadata": {
      "byteLimit": 2048000,
      "rowLimit": 10000
     },
     "inputWidgets": {},
     "nuid": "0c2e09f6-ed4b-41ba-b807-1a0e9de52d5e",
     "showTitle": false,
     "tableResultSettingsMap": {},
     "title": ""
    }
   },
   "outputs": [],
   "source": [
    "# PASO 2: Carga de insumos\n",
    "gdf_neigh = gpd.read_parquet(base/paths[\"neighborhoods\"])       # barrios\n",
    "mask_geom = gpd.read_parquet(base/paths[\"city_mask\"]).geometry.iloc[0]  # contorno Medellín\n",
    "df_cust   = pd.read_parquet(base/paths[\"customers\"])            # clientes\n",
    "df_emp    = pd.read_parquet(base/paths[\"employees\"])            # empleados\n",
    "print(f\"✅ Barrios: {len(gdf_neigh)} | Clientes: {len(df_cust)} | Empleados: {len(df_emp)}\")"
   ]
  },
  {
   "cell_type": "code",
   "execution_count": 0,
   "metadata": {
    "application/vnd.databricks.v1+cell": {
     "cellMetadata": {
      "byteLimit": 2048000,
      "rowLimit": 10000
     },
     "inputWidgets": {},
     "nuid": "bd34b878-1d63-46a4-a75f-e358963bb7a0",
     "showTitle": false,
     "tableResultSettingsMap": {},
     "title": ""
    }
   },
   "outputs": [],
   "source": [
    "# PASO 3: Funciones de muestreo y generación de evento\n",
    "def sample_point(poly):\n",
    "    minx,miny,maxx,maxy = poly.bounds\n",
    "    while True:\n",
    "        p = Point(random.uniform(minx, maxx), random.uniform(miny, maxy))\n",
    "        if poly.contains(p) and mask_geom.contains(p):\n",
    "            return p\n",
    "\n",
    "def gen_event():\n",
    "    b  = gdf_neigh.sample(1).iloc[0]\n",
    "    pt = sample_point(b.geometry)\n",
    "    return {\n",
    "      \"order_id\":          str(uuid.uuid4()),\n",
    "      \"date\":              datetime.now().strftime(\"%d/%m/%Y %H:%M:%S\"),\n",
    "      \"customer_id\":       int(df_cust.customer_id.sample(1).iloc[0]),\n",
    "      \"employee_id\":       int(df_emp.employee_id.sample(1).iloc[0]),\n",
    "      \"quantity_products\": random.randint(qty_min, qty_max),\n",
    "      \"latitude\":          pt.y,\n",
    "      \"longitude\":         pt.x,\n",
    "      \"neighborhood\":      b[\"NOMBRE\"]\n",
    "    }\n"
   ]
  },
  {
   "cell_type": "code",
   "execution_count": 0,
   "metadata": {
    "application/vnd.databricks.v1+cell": {
     "cellMetadata": {
      "byteLimit": 2048000,
      "rowLimit": 10000
     },
     "inputWidgets": {},
     "nuid": "577287d6-6716-4814-8746-3040ad7b8b49",
     "showTitle": false,
     "tableResultSettingsMap": {},
     "title": ""
    }
   },
   "outputs": [],
   "source": [
    "# PASSO 4: Preparar carpeta timestamp\n",
    "ts      = datetime.now().strftime(\"%Y%m%d_%H%M%S\")\n",
    "out_dir = base/paths[\"output_dir\"]/ts\n",
    "out_dir.mkdir(parents=True, exist_ok=True)\n",
    "print(\"▶️ Carpeta de simulación:\", out_dir.name)"
   ]
  },
  {
   "cell_type": "code",
   "execution_count": 0,
   "metadata": {
    "application/vnd.databricks.v1+cell": {
     "cellMetadata": {
      "byteLimit": 2048000,
      "rowLimit": 10000
     },
     "inputWidgets": {},
     "nuid": "0b190138-38f1-46c4-9882-ee2e89e1dad6",
     "showTitle": false,
     "tableResultSettingsMap": {},
     "title": ""
    }
   },
   "outputs": [],
   "source": [
    "# Celda 5 optimizada para prueba rápida:\n",
    "N = 20\n",
    "for _ in range(N):\n",
    "    e = gen_event()\n",
    "    (out_dir/f\"{e['order_id']}.json\").write_text(json.dumps(e))\n",
    "print(f\"✅ Generados {N} eventos en {out_dir.name}\")\n"
   ]
  },
  {
   "cell_type": "code",
   "execution_count": 0,
   "metadata": {
    "application/vnd.databricks.v1+cell": {
     "cellMetadata": {
      "byteLimit": 2048000,
      "rowLimit": 10000
     },
     "inputWidgets": {},
     "nuid": "46aaf3d4-ef59-4565-83ec-00bdf4095f84",
     "showTitle": false,
     "tableResultSettingsMap": {},
     "title": ""
    }
   },
   "outputs": [],
   "source": [
    "# PASO 6: Leer los JSONs y crear DataFrame Spark\n",
    "files   = list(out_dir.glob(\"*.json\"))\n",
    "events  = [json.loads(p.read_text()) for p in files]\n",
    "df_raw  = spark.createDataFrame(events)"
   ]
  },
  {
   "cell_type": "code",
   "execution_count": 0,
   "metadata": {
    "application/vnd.databricks.v1+cell": {
     "cellMetadata": {
      "byteLimit": 2048000,
      "rowLimit": 10000
     },
     "inputWidgets": {},
     "nuid": "1cec9aed-181d-4bee-8851-08b11ae3df91",
     "showTitle": false,
     "tableResultSettingsMap": {},
     "title": ""
    }
   },
   "outputs": [],
   "source": [
    "# PASO 7: Inspección rápida\n",
    "display(df_raw)\n",
    "df_raw.printSchema()\n",
    "print(\"Total registros:\", df_raw.count())"
   ]
  }
 ],
 "metadata": {
  "application/vnd.databricks.v1+notebook": {
   "computePreferences": null,
   "dashboards": [],
   "environmentMetadata": {
    "base_environment": "",
    "environment_version": "2"
   },
   "inputWidgetPreferences": null,
   "language": "python",
   "notebookMetadata": {
    "pythonIndentUnit": 4
   },
   "notebookName": "01_setup_and_load",
   "widgets": {}
  },
  "language_info": {
   "name": "python"
  }
 },
 "nbformat": 4,
 "nbformat_minor": 0
}
